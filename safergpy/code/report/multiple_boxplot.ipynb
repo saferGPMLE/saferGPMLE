{
 "cells": [
  {
   "cell_type": "code",
   "execution_count": null,
   "metadata": {},
   "outputs": [],
   "source": [
    "import matplotlib.pyplot as plt\n",
    "import os\n",
    "import seaborn as sns\n",
    "import pandas as pd\n",
    "import numpy as np\n",
    "import sys"
   ]
  },
  {
   "cell_type": "code",
   "execution_count": null,
   "metadata": {},
   "outputs": [],
   "source": [
    "method = ['gpy_mle0133', 'gpy_mle3021']\n",
    "dataset = ['borehole', '20d']\n",
    "output = 'f_1'"
   ]
  },
  {
   "cell_type": "code",
   "execution_count": null,
   "metadata": {},
   "outputs": [],
   "source": [
    "tips = sns.load_dataset('tips')"
   ]
  },
  {
   "cell_type": "code",
   "execution_count": null,
   "metadata": {},
   "outputs": [],
   "source": [
    "def get_problem_and_dimension(file):\n",
    "    splited_file_name = file.split('_')\n",
    "\n",
    "    problem = \"_\".join(file.split('_')[0:(len(splited_file_name) - 1)])\n",
    "    d = splited_file_name[len(splited_file_name) - 1].replace('.csv', '')\n",
    "\n",
    "    return problem, d\n",
    "\n",
    "#--- Let's do the job ---\n",
    "data_dir = os.path.join(os.getcwd(), '..', '..', 'results', 'bench2', 'data', str(method[0]))\n",
    "\n",
    "data_dir_full = os.path.join(os.getcwd(), '..', '..', 'results', 'bench1', 'data', str(method[0]))\n",
    "\n",
    "data_dir_1 = os.path.join(os.getcwd(), '..', '..', 'results', 'bench2', 'data', str(method[1]))\n",
    "\n",
    "data_dir_full_1 = os.path.join(os.getcwd(), '..', '..', 'results', 'bench1', 'data', str(method[1]))\n"
   ]
  },
  {
   "cell_type": "code",
   "execution_count": null,
   "metadata": {},
   "outputs": [],
   "source": [
    "data_dir"
   ]
  },
  {
   "cell_type": "code",
   "execution_count": null,
   "metadata": {},
   "outputs": [],
   "source": [
    "\n",
    "def df_generator(data_dir, tag):\n",
    "    for file in os.listdir(data_dir):\n",
    "        problem, d = get_problem_and_dimension(file)\n",
    "\n",
    "        if [problem, d] == dataset :\n",
    "\n",
    "            data = pd.read_csv(os.path.join(data_dir, file), sep=',', index_col=0)\n",
    "            df = pd.DataFrame(data)\n",
    "\n",
    "            ls = []\n",
    "            to_remove = []\n",
    "            for i in df.columns:\n",
    "                if 'ls_dim' in i:\n",
    "                    ls.append(i)\n",
    "                else:\n",
    "                    to_remove.append(i)\n",
    "\n",
    "            df = df.loc[df['output'] == output]\n",
    "\n",
    "            for i in ls:\n",
    "                df[i] = np.log(df[i])\n",
    "            df = df.dropna()\n",
    "            df = df.drop(to_remove, axis = 1)\n",
    "            df['method'] = np.array(df.shape[0]*[tag])\n",
    "    return df\n"
   ]
  },
  {
   "cell_type": "code",
   "execution_count": null,
   "metadata": {},
   "outputs": [],
   "source": [
    "df = df_generator(data_dir, 'default')\n",
    "df_full = df_generator(data_dir_full, 'default')\n",
    "df_1 = df_generator(data_dir_1, 'healed')\n",
    "df_full_1 = df_generator(data_dir_full_1, 'healed')"
   ]
  },
  {
   "cell_type": "code",
   "execution_count": null,
   "metadata": {},
   "outputs": [],
   "source": [
    "# data to plot\n",
    "A= [df['ls_dim_5'],  df_1['ls_dim_5']]\n",
    "B = [df['ls_dim_6'],  df_1['ls_dim_6']]\n",
    "C = [df['ls_dim_7'],  df_1['ls_dim_7']]\n",
    "D = [df['ls_dim_8'],  df_1['ls_dim_8']]\n",
    "\n",
    "A_1= [df_full['ls_dim_5'],  df_full_1['ls_dim_5']]\n",
    "B_1 = [df_full['ls_dim_6'],  df_full_1['ls_dim_6']]\n",
    "C_1 = [df_full['ls_dim_7'],  df_full_1['ls_dim_7']]\n",
    "D_1 = [df_full['ls_dim_8'],  df_full_1['ls_dim_8']]\n",
    "\n",
    "\n",
    "def color_scheme(bp, bp_1):\n",
    "    for median in bp['medians']:\n",
    "        median.set(color='g', linewidth=2)\n",
    "\n",
    "    for median in bp_1['medians']:\n",
    "        median.set(color='r', linewidth=2)\n",
    "\n",
    "    for box in bp_1['boxes']:\n",
    "        box.set( color='r', linewidth=2)\n",
    "\n",
    "    for whisker in bp_1['whiskers']:\n",
    "        whisker.set(color='r', linewidth=2)\n",
    "\n",
    "    for cap in bp_1['caps']:\n",
    "        cap.set(color='r', linewidth=2)\n",
    "\n",
    "fig = plt.figure()\n",
    "ax = plt.axes()\n",
    "\n",
    "# first boxplot pair\n",
    "bp = ax.boxplot(A, positions = [1, 2], widths = 0.6)\n",
    "bp_1 = ax.boxplot(A_1, positions = [1, 2], widths = 0.6)\n",
    "color_scheme(bp, bp_1)\n",
    "\n",
    "# second boxplot pair\n",
    "bp = ax.boxplot(B, positions = [4, 5], widths = 0.6)\n",
    "bp_1 = ax.boxplot(B_1, positions = [4, 5], widths = 0.6)\n",
    "color_scheme(bp, bp_1)\n",
    "\n",
    "# thrid boxplot pair\n",
    "bp = ax.boxplot(C, positions = [7, 8], widths = 0.6)\n",
    "bp_1 = ax.boxplot(C_1, positions = [7, 8], widths = 0.6)\n",
    "color_scheme(bp, bp_1)\n",
    "\n",
    "# fourth boxplot pair\n",
    "bp = ax.boxplot(D, positions = [10, 11], widths = 0.6)\n",
    "bp_1 = ax.boxplot(D_1, positions = [10, 11], widths = 0.6)\n",
    "color_scheme(bp, bp_1)\n",
    "\n",
    "# set axes limits and labels\n",
    "plt.xlim(0,12)\n",
    "#plt.ylim(0,9)\n",
    "ax.set_xticklabels(['1', '2', '3', '4'])\n",
    "ax.set_xticks([1.5, 4.5, 7.5, 10.5])\n",
    "\n",
    "plt.xlabel('input dimensions', fontsize = 14)\n",
    "plt.ylabel('lengthscale (in log scale)', fontsize = 14)\n",
    "plt.title('Boxplot of LOO estimated lengthscale')\n",
    "plt.grid(True)\n",
    "\n",
    "plt.show()"
   ]
  }
 ],
 "metadata": {
  "kernelspec": {
   "display_name": "Python 3",
   "language": "python",
   "name": "python3"
  },
  "language_info": {
   "codemirror_mode": {
    "name": "ipython",
    "version": 3
   },
   "file_extension": ".py",
   "mimetype": "text/x-python",
   "name": "python",
   "nbconvert_exporter": "python",
   "pygments_lexer": "ipython3",
   "version": "3.7.3"
  }
 },
 "nbformat": 4,
 "nbformat_minor": 2
}
