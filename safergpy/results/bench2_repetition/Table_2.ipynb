{
 "cells": [
  {
   "cell_type": "code",
   "execution_count": 1,
   "id": "applicable-zealand",
   "metadata": {},
   "outputs": [],
   "source": [
    "import os\n",
    "import pandas as pd\n",
    "import numpy as np"
   ]
  },
  {
   "cell_type": "markdown",
   "id": "suffering-yorkshire",
   "metadata": {},
   "source": [
    "## 3D default"
   ]
  },
  {
   "cell_type": "code",
   "execution_count": 2,
   "id": "radio-sending",
   "metadata": {},
   "outputs": [],
   "source": [
    "path_1 = 'bench2_repetition_3d/gpy_mle3021/'\n",
    "\n",
    "loo_mse = []\n",
    "ratio = []\n",
    "for file in os.listdir(path_1):\n",
    "    df = pd.read_csv(os.path.join(path_1, file))\n",
    "    #print('\\nLOO-MSE {} & ratio {} for file {}'.format(np.sqrt(np.mean(df['mse'])), np.sqrt(np.mean(df['mse']))/np.sqrt(np.var(df['y_test'])), file))\n",
    "    loo_mse.append(np.sqrt(np.mean(df['mse'])))\n",
    "    ratio.append(np.sqrt(np.mean(df['mse']))/np.sqrt(np.var(df['y_test'])))"
   ]
  },
  {
   "cell_type": "code",
   "execution_count": 3,
   "id": "relative-shoulder",
   "metadata": {},
   "outputs": [
    {
     "name": "stdout",
     "output_type": "stream",
     "text": [
      "\n",
      "Mean of LOO-MSE 17.55922237013239\n",
      "\n",
      "SD of LOO-MSE 4.511616870005694\n",
      "\n",
      "Mean of ratio 0.38748544186916845\n"
     ]
    }
   ],
   "source": [
    "print('\\nMean of LOO-MSE {}'.format(np.mean(loo_mse)))\n",
    "print('\\nSD of LOO-MSE {}'.format(np.sqrt(np.var(loo_mse))))\n",
    "print('\\nMean of ratio {}'.format(np.mean(ratio)))"
   ]
  },
  {
   "cell_type": "markdown",
   "id": "heated-money",
   "metadata": {},
   "source": [
    "## 3D improved"
   ]
  },
  {
   "cell_type": "code",
   "execution_count": 4,
   "id": "solar-shark",
   "metadata": {},
   "outputs": [],
   "source": [
    "path_1 = 'bench2_repetition_3d/gpy_mle3022/'\n",
    "\n",
    "loo_mse = []\n",
    "ratio = []\n",
    "for file in os.listdir(path_1):\n",
    "    df = pd.read_csv(os.path.join(path_1, file))\n",
    "    #print('\\nLOO-MSE {} & ratio {} for file {}'.format(np.sqrt(np.mean(df['mse'])), np.sqrt(np.mean(df['mse']))/np.sqrt(np.var(df['y_test'])), file))\n",
    "    loo_mse.append(np.sqrt(np.mean(df['mse'])))\n",
    "    ratio.append(np.sqrt(np.mean(df['mse']))/np.sqrt(np.var(df['y_test'])))"
   ]
  },
  {
   "cell_type": "code",
   "execution_count": 5,
   "id": "destroyed-gender",
   "metadata": {},
   "outputs": [
    {
     "name": "stdout",
     "output_type": "stream",
     "text": [
      "\n",
      "Mean of LOO-MSE 3.948771888830928\n",
      "\n",
      "SD of LOO-MSE 1.4473474094734737\n",
      "\n",
      "Mean of ratio 0.08721052893805004\n"
     ]
    }
   ],
   "source": [
    "print('\\nMean of LOO-MSE {}'.format(np.mean(loo_mse)))\n",
    "print('\\nSD of LOO-MSE {}'.format(np.sqrt(np.var(loo_mse))))\n",
    "print('\\nMean of ratio {}'.format(np.mean(ratio)))"
   ]
  },
  {
   "cell_type": "markdown",
   "id": "arabic-despite",
   "metadata": {},
   "source": [
    "## 5D default"
   ]
  },
  {
   "cell_type": "code",
   "execution_count": 6,
   "id": "three-trash",
   "metadata": {},
   "outputs": [],
   "source": [
    "path_1 = 'bench2_repetition_5d/gpy_mle3021/'\n",
    "\n",
    "loo_mse = []\n",
    "ratio = []\n",
    "for file in os.listdir(path_1):\n",
    "    df = pd.read_csv(os.path.join(path_1, file))\n",
    "    #print('\\nLOO-MSE {} & ratio {} for file {}'.format(np.sqrt(np.mean(df['mse'])), np.sqrt(np.mean(df['mse']))/np.sqrt(np.var(df['y_test'])), file))\n",
    "    loo_mse.append(np.sqrt(np.mean(df['mse'])))\n",
    "    ratio.append(np.sqrt(np.mean(df['mse']))/np.sqrt(np.var(df['y_test'])))"
   ]
  },
  {
   "cell_type": "code",
   "execution_count": 7,
   "id": "indian-implement",
   "metadata": {},
   "outputs": [
    {
     "name": "stdout",
     "output_type": "stream",
     "text": [
      "\n",
      "Mean of LOO-MSE 10.749026040485179\n",
      "\n",
      "SD of LOO-MSE 2.862105030899742\n",
      "\n",
      "Mean of ratio 0.22910608883987926\n"
     ]
    }
   ],
   "source": [
    "print('\\nMean of LOO-MSE {}'.format(np.mean(loo_mse)))\n",
    "print('\\nSD of LOO-MSE {}'.format(np.sqrt(np.var(loo_mse))))\n",
    "print('\\nMean of ratio {}'.format(np.mean(ratio)))"
   ]
  },
  {
   "cell_type": "markdown",
   "id": "right-norfolk",
   "metadata": {},
   "source": [
    "## 5D improved"
   ]
  },
  {
   "cell_type": "code",
   "execution_count": 8,
   "id": "operating-journalism",
   "metadata": {},
   "outputs": [],
   "source": [
    "path_1 = 'bench2_repetition_5d/gpy_mle3022/'\n",
    "\n",
    "loo_mse = []\n",
    "ratio = []\n",
    "for file in os.listdir(path_1):\n",
    "    df = pd.read_csv(os.path.join(path_1, file))\n",
    "    #print('\\nLOO-MSE {} & ratio {} for file {}'.format(np.sqrt(np.mean(df['mse'])), np.sqrt(np.mean(df['mse']))/np.sqrt(np.var(df['y_test'])), file))\n",
    "    loo_mse.append(np.sqrt(np.mean(df['mse'])))\n",
    "    ratio.append(np.sqrt(np.mean(df['mse']))/np.sqrt(np.var(df['y_test'])))"
   ]
  },
  {
   "cell_type": "code",
   "execution_count": 9,
   "id": "present-kingston",
   "metadata": {},
   "outputs": [
    {
     "name": "stdout",
     "output_type": "stream",
     "text": [
      "\n",
      "Mean of LOO-MSE 1.5771235117414202\n",
      "\n",
      "SD of LOO-MSE 0.6109456996796264\n",
      "\n",
      "Mean of ratio 0.03355098629294111\n"
     ]
    }
   ],
   "source": [
    "print('\\nMean of LOO-MSE {}'.format(np.mean(loo_mse)))\n",
    "print('\\nSD of LOO-MSE {}'.format(np.sqrt(np.var(loo_mse))))\n",
    "print('\\nMean of ratio {}'.format(np.mean(ratio)))"
   ]
  },
  {
   "cell_type": "code",
   "execution_count": null,
   "id": "joined-depression",
   "metadata": {},
   "outputs": [],
   "source": []
  },
  {
   "cell_type": "code",
   "execution_count": null,
   "id": "mobile-defeat",
   "metadata": {},
   "outputs": [],
   "source": []
  }
 ],
 "metadata": {
  "kernelspec": {
   "display_name": "Python 3",
   "language": "python",
   "name": "python3"
  },
  "language_info": {
   "codemirror_mode": {
    "name": "ipython",
    "version": 3
   },
   "file_extension": ".py",
   "mimetype": "text/x-python",
   "name": "python",
   "nbconvert_exporter": "python",
   "pygments_lexer": "ipython3",
   "version": "3.8.5"
  }
 },
 "nbformat": 4,
 "nbformat_minor": 5
}
